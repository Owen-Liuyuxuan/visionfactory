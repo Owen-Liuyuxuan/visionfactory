{
 "cells": [
  {
   "cell_type": "code",
   "execution_count": 1,
   "metadata": {},
   "outputs": [],
   "source": [
    "import numpy as np\n",
    "from PIL import Image\n",
    "import cv2\n",
    "import matplotlib.pyplot as plt\n",
    "import os"
   ]
  },
  {
   "cell_type": "code",
   "execution_count": 2,
   "metadata": {},
   "outputs": [],
   "source": [
    "KITTI360_base = '/data/KITTI-360'\n",
    "\n",
    "image_dir = os.path.join(KITTI360_base, 'data_2d_raw')\n",
    "pose_dir  = os.path.join(KITTI360_base, 'data_poses')\n",
    "calib_dir = os.path.join(KITTI360_base, 'calibration')\n",
    "pc_dir    = os.path.join(KITTI360_base, 'data_3d_raw')\n",
    "\n",
    "sequence_names = os.listdir(pose_dir)\n",
    "sequence_names.sort()\n",
    "\n",
    "np.random.seed(0)\n",
    "random_permutation = np.random.permutation(range(len(sequence_names)))\n",
    "split_ratio = 0.8\n",
    "validation_gaps = 20\n",
    "num_train_split = int(split_ratio * len(sequence_names))\n",
    "train_split = random_permutation[0:num_train_split]\n",
    "val_split   = random_permutation[num_train_split:]"
   ]
  },
  {
   "cell_type": "code",
   "execution_count": 5,
   "metadata": {},
   "outputs": [],
   "source": [
    "train_file = 'kitti360_train.txt'\n",
    "\n",
    "train_lines = []\n",
    "\n",
    "for sequence_index in train_split:\n",
    "    sequence_name = sequence_names[sequence_index]\n",
    "    pose_file = os.path.join(pose_dir, sequence_name, 'cam0_to_world.txt')\n",
    "    key_frame_indexes = []\n",
    "    with open(pose_file, 'r') as f:\n",
    "        lines = f.readlines()\n",
    "        for line in lines:\n",
    "            key_frame_indexes.append(int(line.strip().split(\" \")[0]))\n",
    "            \n",
    "    for i in range(1, len(key_frame_indexes)-1):\n",
    "        image_dir_0 = os.path.join(image_dir, sequence_name, 'image_00', 'data_rect')\n",
    "        image_paths = [\n",
    "            os.path.join(image_dir_0, f\"{i:010d}.png\") for i in [key_frame_indexes[i], key_frame_indexes[i-1], key_frame_indexes[i+1]]\n",
    "        ]\n",
    "        image_exist=True\n",
    "        for img in image_paths:\n",
    "            if not os.path.isfile(img):\n",
    "                image_exist=False\n",
    "        if image_exist:\n",
    "            wline = f\"{sequence_name},{i},{key_frame_indexes[i]},{key_frame_indexes[i-1]},{key_frame_indexes[i+1]}\\n\"\n",
    "            train_lines.append(wline)\n",
    "        \n",
    "\n",
    "with open(train_file, 'w') as f:\n",
    "    f.writelines(train_lines)\n",
    "\n",
    "val_lines   = []\n",
    "val_file   = 'kitti360_val.txt'\n",
    "\n",
    "for scene_index in val_split:\n",
    "    sequence_name = sequence_names[sequence_index]\n",
    "    pose_file = os.path.join(pose_dir, sequence_name, 'cam0_to_world.txt')\n",
    "    key_frame_indexes = []\n",
    "    with open(pose_file, 'r') as f:\n",
    "        lines = f.readlines()\n",
    "        for line in lines:\n",
    "            key_frame_indexes.append(int(line.strip().split(\" \")[0]))\n",
    "            \n",
    "    for i in range(1, len(key_frame_indexes)-1, validation_gaps):\n",
    "        image_dir_0 = os.path.join(image_dir, sequence_name, 'image_00', 'data_rect')\n",
    "        image_paths = [\n",
    "            os.path.join(image_dir_0, f\"{i:010d}.png\") for i in [key_frame_indexes[i], key_frame_indexes[i-1], key_frame_indexes[i+1]]\n",
    "        ]\n",
    "        image_exist=True\n",
    "        for img in image_paths:\n",
    "            if not os.path.isfile(img):\n",
    "                image_exist=False\n",
    "        if image_exist:\n",
    "            wline = f\"{sequence_name},{i},{key_frame_indexes[i]},{key_frame_indexes[i-1]},{key_frame_indexes[i+1]}\\n\"\n",
    "            val_lines.append(wline)\n",
    "        \n",
    "with open(val_file, 'w') as f:\n",
    "    f.writelines(val_lines)"
   ]
  },
  {
   "cell_type": "code",
   "execution_count": null,
   "metadata": {},
   "outputs": [],
   "source": []
  },
  {
   "cell_type": "code",
   "execution_count": null,
   "metadata": {},
   "outputs": [],
   "source": []
  }
 ],
 "metadata": {
  "kernelspec": {
   "display_name": "Python 3",
   "language": "python",
   "name": "python3"
  },
  "language_info": {
   "codemirror_mode": {
    "name": "ipython",
    "version": 3
   },
   "file_extension": ".py",
   "mimetype": "text/x-python",
   "name": "python",
   "nbconvert_exporter": "python",
   "pygments_lexer": "ipython3",
   "version": "3.6.9"
  }
 },
 "nbformat": 4,
 "nbformat_minor": 4
}
